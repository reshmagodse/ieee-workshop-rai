{
 "cells": [
  {
   "cell_type": "markdown",
   "id": "2c0da1e0",
   "metadata": {},
   "source": [
    "# Graduates Admission - Experiment Tracking\n",
    "\n",
    "In this notebooks, we will perform following things:\n",
    "1. Use PyCaret to automate model building process\n",
    "1. Use MLFlow to track these experiments"
   ]
  },
  {
   "cell_type": "markdown",
   "id": "d0f2b5c4",
   "metadata": {},
   "source": [
    "## Imports"
   ]
  },
  {
   "cell_type": "code",
   "execution_count": null,
   "id": "9c75b327",
   "metadata": {},
   "outputs": [],
   "source": [
    "import pandas as pd\n",
    "import numpy as np\n",
    "from matplotlib import pyplot as plt\n",
    "import seaborn as sns\n"
   ]
  },
  {
   "cell_type": "markdown",
   "id": "5f4e81f2",
   "metadata": {},
   "source": [
    "## Read data"
   ]
  },
  {
   "cell_type": "code",
   "execution_count": null,
   "id": "1b4e1221",
   "metadata": {},
   "outputs": [],
   "source": [
    "raw_data = pd.read_csv('data/admission_data-v2.csv')\n",
    "raw_data.head()\n"
   ]
  },
  {
   "cell_type": "markdown",
   "id": "0baece30",
   "metadata": {},
   "source": [
    "## MLFlow"
   ]
  },
  {
   "cell_type": "markdown",
   "id": "62b544f3",
   "metadata": {},
   "source": [
    "#### Configure MLFlow URI"
   ]
  },
  {
   "cell_type": "code",
   "execution_count": null,
   "id": "5d8259c1",
   "metadata": {},
   "outputs": [],
   "source": [
    "import mlflow\n",
    "\n",
    "mlflow.set_tracking_uri('http://localhost:5000')\n",
    "\n",
    "experiment_name = 'Graduate Admission Predictor'\n",
    "mlflow.set_experiment(experiment_name)\n"
   ]
  },
  {
   "cell_type": "markdown",
   "id": "ade5a6e5",
   "metadata": {},
   "source": [
    "## PyCaret"
   ]
  },
  {
   "cell_type": "markdown",
   "id": "91775c37",
   "metadata": {},
   "source": [
    "#### Setup"
   ]
  },
  {
   "cell_type": "code",
   "execution_count": null,
   "id": "83c17968",
   "metadata": {},
   "outputs": [],
   "source": [
    "from pycaret.regression import *\n",
    "\n",
    "exp_ppt101 = setup(data=raw_data, target='Chance of Admit',\n",
    "                   normalize=True, normalize_method='minmax',\n",
    "                   numeric_features=['University Rating'],\n",
    "                   train_size=0.7, session_id=123, n_jobs=None,\n",
    "                   log_experiment=True, experiment_name=experiment_name,\n",
    "                   log_plots=True, log_profile=True, log_data=True\n",
    "                  )\n"
   ]
  },
  {
   "cell_type": "code",
   "execution_count": null,
   "id": "69648033",
   "metadata": {},
   "outputs": [],
   "source": [
    "get_config('X_test').head(5)\n"
   ]
  },
  {
   "cell_type": "markdown",
   "id": "9581835b",
   "metadata": {},
   "source": [
    "#### Compare various models"
   ]
  },
  {
   "cell_type": "code",
   "execution_count": null,
   "id": "a0626a08",
   "metadata": {},
   "outputs": [],
   "source": [
    "top3 = compare_models(n_select=3)\n"
   ]
  },
  {
   "cell_type": "markdown",
   "id": "621f12ad",
   "metadata": {},
   "source": [
    "#### Hyperparameter tuning"
   ]
  },
  {
   "cell_type": "code",
   "execution_count": null,
   "id": "99983de3",
   "metadata": {},
   "outputs": [],
   "source": [
    "tuned_models = []\n",
    "\n",
    "for m in top3:\n",
    "    tuned_models.append(tune_model(m))\n",
    "    "
   ]
  },
  {
   "cell_type": "code",
   "execution_count": null,
   "id": "f733f425",
   "metadata": {},
   "outputs": [],
   "source": [
    "tuned_models\n"
   ]
  },
  {
   "cell_type": "markdown",
   "id": "0dcc3e49",
   "metadata": {},
   "source": [
    "## Model as Python Function"
   ]
  },
  {
   "cell_type": "code",
   "execution_count": null,
   "id": "994bf1ea",
   "metadata": {},
   "outputs": [],
   "source": [
    "model_uri = ''\n",
    "\n",
    "loaded_model = mlflow.pyfunc.load_model(model_uri)\n",
    "\n",
    "production_data = pd.read_csv('./data/admission_data-production.csv')\n",
    "\n",
    "loaded_model.predict(production_data)\n"
   ]
  },
  {
   "cell_type": "markdown",
   "id": "220dfc3c",
   "metadata": {},
   "source": [
    "## Model from Model Registry\n",
    "\n",
    "The final model can be moved to Model Registry to declare the production grade model published for the given use case."
   ]
  },
  {
   "cell_type": "code",
   "execution_count": null,
   "id": "11f9b1ab",
   "metadata": {},
   "outputs": [],
   "source": [
    "model_name = 'Graduate Admission Predictor'\n",
    "stage = 'production'\n",
    "\n",
    "# Load model\n",
    "model_uri = f'models:/{model_name}/{stage}'\n",
    "model_from_registry = mlflow.sklearn.load_model(model_uri)\n",
    "\n",
    "# Load data\n",
    "production_data = pd.read_csv('./data/admission_data-production.csv')\n",
    "\n",
    "# Predict\n",
    "model_from_registry.predict(production_data)\n"
   ]
  },
  {
   "cell_type": "markdown",
   "id": "4a8eb128",
   "metadata": {},
   "source": [
    "## Model as Endpoint"
   ]
  },
  {
   "cell_type": "code",
   "execution_count": null,
   "id": "81fee7ae",
   "metadata": {},
   "outputs": [],
   "source": [
    "import requests\n",
    "\n",
    "model_uri = 'http://0.0.0.0:5001'\n",
    "\n",
    "production_data = pd.read_csv('./data/admission_data-production.csv')\n",
    "\n",
    "def predict(data, _model_uri):\n",
    "    headers = {\n",
    "        \"Content-Type\": \"application/json\",\n",
    "      }\n",
    "    data_json = data.to_dict(orient='records')\n",
    "    dataframe_records = {'dataframe_records': data_json}\n",
    "    response = requests.request(method='POST', headers=headers, url=f'{_model_uri}/invocations', json=dataframe_records)\n",
    "    if response.status_code != 200:\n",
    "      raise Exception(f\"Request failed with status {response.status_code}, {response.text}\")\n",
    "    return response.json()\n",
    "\n",
    "predict(production_data, model_uri)\n"
   ]
  }
 ],
 "metadata": {
  "kernelspec": {
   "display_name": "ieee-workshop-env",
   "language": "python",
   "name": "ieee-workshop-env"
  },
  "language_info": {
   "codemirror_mode": {
    "name": "ipython",
    "version": 3
   },
   "file_extension": ".py",
   "mimetype": "text/x-python",
   "name": "python",
   "nbconvert_exporter": "python",
   "pygments_lexer": "ipython3",
   "version": "3.8.13"
  }
 },
 "nbformat": 4,
 "nbformat_minor": 5
}
