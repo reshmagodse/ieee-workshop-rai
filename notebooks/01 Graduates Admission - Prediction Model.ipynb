{
 "cells": [
  {
   "cell_type": "markdown",
   "id": "2c0da1e0",
   "metadata": {},
   "source": [
    "# Graduates Admission - Prediction Model\n",
    "\n",
    "In this notebook, we will build a model for predicting probability of a student getting admission into a particular university.\n",
    "\n",
    "We want to build a dashboard to help students with their graduate admissions. A student would use the dashboard to guage probability of getting admission into a particular university.\n",
    "\n",
    "The dashboard would be powered by ML model, which would predict the probability. Let's say that we reached out to various universities to gather required training data.\n",
    "\n",
    "The data that we have collated so far has following columns:\n",
    "\n",
    "- GRE Scores ( out of 340 )\n",
    "- TOEFL Scores ( out of 120 )\n",
    "- University Rating ( out of 5 )\n",
    "- Statement of Purpose - (SOP) Strength ( out of 5 )\n",
    "- Letter of Recommendation - (LOR) Strength ( out of 5 )\n",
    "- Undergraduate GPA-CGPA ( out of 10 )\n",
    "- Research Experience ( either 0 or 1 )\n",
    "- Gender (either M or F)\n",
    "- Chance of Admit ( ranging from 0 to 1 )\n",
    "\n",
    "Let's work on the model."
   ]
  },
  {
   "cell_type": "markdown",
   "id": "78897be7",
   "metadata": {},
   "source": [
    "## Imports"
   ]
  },
  {
   "cell_type": "code",
   "execution_count": null,
   "id": "703f0dcc",
   "metadata": {},
   "outputs": [],
   "source": [
    "import pandas as pd\n",
    "import numpy as np\n",
    "from matplotlib import pyplot as plt\n",
    "import seaborn as sns"
   ]
  },
  {
   "cell_type": "markdown",
   "id": "5f4e81f2",
   "metadata": {},
   "source": [
    "## Read data"
   ]
  },
  {
   "cell_type": "code",
   "execution_count": null,
   "id": "1b4e1221",
   "metadata": {},
   "outputs": [],
   "source": [
    "raw_data = pd.read_csv('data/admission_data-v2.csv')\n",
    "raw_data.head()\n"
   ]
  },
  {
   "cell_type": "markdown",
   "id": "aaf9638f",
   "metadata": {},
   "source": [
    "### Convert categorical columns to numeric columns"
   ]
  },
  {
   "cell_type": "code",
   "execution_count": null,
   "id": "7c4d774d",
   "metadata": {},
   "outputs": [],
   "source": [
    "data_gender_processed = raw_data.copy()\n",
    "data_gender_processed['Gender'] = data_gender_processed['Gender'].replace({'F': 0, 'M': 1})\n",
    "data_gender_processed.head()\n"
   ]
  },
  {
   "cell_type": "markdown",
   "id": "6869fefc",
   "metadata": {},
   "source": [
    "## EDA & Feature Engineering"
   ]
  },
  {
   "cell_type": "markdown",
   "id": "fb3c3de2",
   "metadata": {},
   "source": [
    "### Basic stats for columns"
   ]
  },
  {
   "cell_type": "code",
   "execution_count": null,
   "id": "5d49daa9",
   "metadata": {},
   "outputs": [],
   "source": [
    "data_for_eda = data_gender_processed.copy()\n",
    "data_for_eda.describe().T\n"
   ]
  },
  {
   "cell_type": "markdown",
   "id": "9505e2e9",
   "metadata": {},
   "source": [
    "### Check missing values"
   ]
  },
  {
   "cell_type": "code",
   "execution_count": null,
   "id": "634ded4f",
   "metadata": {},
   "outputs": [],
   "source": [
    "data_for_eda.isnull().sum()\n"
   ]
  },
  {
   "cell_type": "markdown",
   "id": "01d8f281",
   "metadata": {},
   "source": [
    "### Pair plots"
   ]
  },
  {
   "cell_type": "code",
   "execution_count": null,
   "id": "ab6d73e2",
   "metadata": {},
   "outputs": [],
   "source": [
    "sns.pairplot(data_for_eda, kind='reg', diag_kind='kde')\n",
    "plt.show()\n"
   ]
  },
  {
   "cell_type": "code",
   "execution_count": null,
   "id": "539d2ffd",
   "metadata": {},
   "outputs": [],
   "source": [
    "data_for_eda.corr()\n"
   ]
  },
  {
   "cell_type": "markdown",
   "id": "e0a12e38",
   "metadata": {},
   "source": [
    "## Remove Outliers\n",
    "\n",
    "Let's see if our data has any outliers. Let's use statistical techniques on each column."
   ]
  },
  {
   "cell_type": "code",
   "execution_count": null,
   "id": "a643564c",
   "metadata": {},
   "outputs": [],
   "source": [
    "binary_cols = ['Research', 'Gender', 'Chance of Admit']\n",
    "\n",
    "for col in data_for_eda.columns:\n",
    "    if col in binary_cols:\n",
    "        continue\n",
    "    plt.figure(figsize=(17, 1))\n",
    "    sns.boxplot(data=data_for_eda, x=col)\n",
    "    plt.show()\n",
    "    "
   ]
  },
  {
   "cell_type": "markdown",
   "id": "5ac4ec2e",
   "metadata": {},
   "source": [
    "Let's conclude that there are no obvious outliers."
   ]
  },
  {
   "cell_type": "markdown",
   "id": "3db3a363",
   "metadata": {},
   "source": [
    "## Train Regression Models"
   ]
  },
  {
   "cell_type": "markdown",
   "id": "41541533",
   "metadata": {},
   "source": [
    "When the model is deployed, we will be getting data in the original format as shown below without the target column 'Chance of Admit'."
   ]
  },
  {
   "cell_type": "code",
   "execution_count": null,
   "id": "913b0fc8",
   "metadata": {},
   "outputs": [],
   "source": [
    "raw_data.drop(columns=['Chance of Admit']).head()\n"
   ]
  },
  {
   "cell_type": "markdown",
   "id": "7a4a471d",
   "metadata": {},
   "source": [
    "Hence, we need to build a pipeline to tranform this data before passing it to the model."
   ]
  },
  {
   "cell_type": "markdown",
   "id": "10607663",
   "metadata": {},
   "source": [
    "### Data Preprocessing Pipeline"
   ]
  },
  {
   "cell_type": "code",
   "execution_count": null,
   "id": "a9924274",
   "metadata": {},
   "outputs": [],
   "source": [
    "from sklearn.preprocessing import MinMaxScaler, FunctionTransformer\n",
    "from sklearn.compose import ColumnTransformer\n",
    "\n",
    "\n",
    "def encode_gender(gender_df):\n",
    "    return pd.DataFrame(gender_df['Gender'].apply(lambda x: 1 if x == 'M' else 0), columns=['Gender'])\n",
    "\n",
    "# Create data pre-processing step\n",
    "data_preprocessor = ColumnTransformer(\n",
    "    [\n",
    "        ('gre_transformer', MinMaxScaler(), ['GRE Score']),\n",
    "        ('toefl_transformer', MinMaxScaler(), ['TOEFL Score']),\n",
    "        ('sop_transformer', MinMaxScaler(), ['SOP']),\n",
    "        ('lor_transformer', MinMaxScaler(), ['LOR']),\n",
    "        ('cgpa_transformer', MinMaxScaler(), ['CGPA']),\n",
    "        ('gender_encoder', FunctionTransformer(encode_gender), ['Gender'])\n",
    "    ]\n",
    ")\n",
    "\n",
    "data_preprocessor\n"
   ]
  },
  {
   "cell_type": "markdown",
   "id": "2dc5d79a",
   "metadata": {},
   "source": [
    "### Train-Test Split"
   ]
  },
  {
   "cell_type": "code",
   "execution_count": null,
   "id": "83a52d44",
   "metadata": {},
   "outputs": [],
   "source": [
    "from sklearn.model_selection import train_test_split\n",
    "\n",
    "X = raw_data.drop(columns=['Chance of Admit'])\n",
    "y = raw_data['Chance of Admit']\n",
    "\n",
    "X_train, X_test, y_train, y_test = train_test_split(X, y, test_size=0.3, random_state=1)\n",
    "print(f'Train size - {X_train.shape[0]}, Test size - {X_test.shape[0]}')\n"
   ]
  },
  {
   "cell_type": "markdown",
   "id": "9d360862",
   "metadata": {},
   "source": [
    "### Linear Regression"
   ]
  },
  {
   "cell_type": "code",
   "execution_count": null,
   "id": "dba5b3b1",
   "metadata": {},
   "outputs": [],
   "source": [
    "from sklearn.linear_model import LinearRegression\n",
    "from sklearn.pipeline import Pipeline\n",
    "\n",
    "\n",
    "# Create Pipeline\n",
    "estimator_lr = Pipeline(\n",
    "    [\n",
    "        ('Preprocessor', data_preprocessor),\n",
    "        ('Estimator', LinearRegression())\n",
    "    ]\n",
    ")\n",
    "\n",
    "estimator_lr\n"
   ]
  },
  {
   "cell_type": "markdown",
   "id": "26926e8d",
   "metadata": {},
   "source": [
    "#### Prediction"
   ]
  },
  {
   "cell_type": "code",
   "execution_count": null,
   "id": "b240bfd8",
   "metadata": {},
   "outputs": [],
   "source": [
    "# Fit training data\n",
    "estimator_lr.fit(X_train, y_train)\n",
    "\n",
    "# Predict on testing data\n",
    "y_lr = estimator_lr.predict(X_test)\n",
    "y_lr\n"
   ]
  },
  {
   "cell_type": "code",
   "execution_count": null,
   "id": "45b38a15",
   "metadata": {},
   "outputs": [],
   "source": [
    "test_with_prediction_lr = X_test.copy()\n",
    "test_with_prediction_lr['actual'] = y_test\n",
    "test_with_prediction_lr['prediction'] = y_lr\n",
    "test_with_prediction_lr['residual'] = y_test - y_lr\n",
    "test_with_prediction_lr.head()\n"
   ]
  },
  {
   "cell_type": "markdown",
   "id": "6632a489",
   "metadata": {},
   "source": [
    "#### Residual Plots"
   ]
  },
  {
   "cell_type": "code",
   "execution_count": null,
   "id": "15328222",
   "metadata": {},
   "outputs": [],
   "source": [
    "residuals_lr_test = y_test - y_lr\n",
    "plt.figure(figsize=(5, 3))\n",
    "residuals_lr_test.plot.kde(label='Residual')\n",
    "plt.legend()\n",
    "plt.show()\n"
   ]
  },
  {
   "cell_type": "code",
   "execution_count": null,
   "id": "3822ade6",
   "metadata": {},
   "outputs": [],
   "source": [
    "plt.figure(figsize=(5, 5))\n",
    "residuals_lr_train = estimator_lr.predict(X_train) - y_train\n",
    "plt.scatter(x=y_train, y=residuals_lr_train, color='green', label='Train')\n",
    "plt.scatter(x=y_test, y=residuals_lr_test, color='orange', label='Test')\n",
    "plt.legend()\n",
    "plt.xlabel('Actual')\n",
    "plt.ylabel('Residual')\n",
    "plt.axhline(y=0, color='blue')\n",
    "plt.show()\n"
   ]
  },
  {
   "cell_type": "markdown",
   "id": "984ece1b",
   "metadata": {},
   "source": [
    "#### Performance Metrics"
   ]
  },
  {
   "cell_type": "code",
   "execution_count": null,
   "id": "01852a10",
   "metadata": {},
   "outputs": [],
   "source": [
    "from sklearn.metrics import mean_absolute_error, r2_score\n",
    "\n",
    "mae_lr = mean_absolute_error(y_test, y_lr)\n",
    "r2_lr = r2_score(y_test, y_lr)\n",
    "print(f'Mpe: {mae_lr}')\n",
    "print(f'R2: {r2_lr}')\n"
   ]
  },
  {
   "cell_type": "markdown",
   "id": "8a5db417",
   "metadata": {},
   "source": [
    "### Random Forest Regressor"
   ]
  },
  {
   "cell_type": "code",
   "execution_count": null,
   "id": "676eddd0",
   "metadata": {},
   "outputs": [],
   "source": [
    "from sklearn.ensemble import RandomForestRegressor\n",
    "from sklearn.pipeline import Pipeline\n",
    "\n",
    "\n",
    "# Create Pipeline\n",
    "estimator_rf = Pipeline(\n",
    "    [\n",
    "        ('Preprocessor', data_preprocessor),\n",
    "        ('Estimator', RandomForestRegressor())\n",
    "    ]\n",
    ")\n",
    "\n",
    "estimator_rf\n"
   ]
  },
  {
   "cell_type": "markdown",
   "id": "7e459378",
   "metadata": {},
   "source": [
    "#### Prediction"
   ]
  },
  {
   "cell_type": "code",
   "execution_count": null,
   "id": "2ee76ca9",
   "metadata": {},
   "outputs": [],
   "source": [
    "# Fit training data\n",
    "estimator_rf.fit(X_train, y_train)\n",
    "\n",
    "# Predict on testing data\n",
    "y_rf = estimator_rf.predict(X_test)\n",
    "y_rf\n"
   ]
  },
  {
   "cell_type": "code",
   "execution_count": null,
   "id": "4d56d230",
   "metadata": {},
   "outputs": [],
   "source": [
    "test_with_prediction_rf = X_test.copy()\n",
    "test_with_prediction_rf['actual'] = y_test\n",
    "test_with_prediction_rf['prediction'] = y_rf\n",
    "test_with_prediction_rf['residual'] = y_test - y_rf\n",
    "test_with_prediction_rf.head()\n"
   ]
  },
  {
   "cell_type": "markdown",
   "id": "1e47f070",
   "metadata": {},
   "source": [
    "#### Residual Plot"
   ]
  },
  {
   "cell_type": "code",
   "execution_count": null,
   "id": "a2473e3d",
   "metadata": {},
   "outputs": [],
   "source": [
    "residuals_rf_test = y_test - y_rf\n",
    "plt.figure(figsize=(5, 3))\n",
    "residuals_rf_test.plot.kde(label='Residual')\n",
    "plt.legend()\n",
    "plt.show()\n"
   ]
  },
  {
   "cell_type": "code",
   "execution_count": null,
   "id": "68500bc3",
   "metadata": {},
   "outputs": [],
   "source": [
    "plt.figure(figsize=(5, 5))\n",
    "residuals_rf_train = estimator_rf.predict(X_train) - y_train\n",
    "plt.scatter(x=y_train, y=residuals_rf_train, color='green', label='Train')\n",
    "plt.scatter(x=y_test, y=residuals_rf_test, color='orange', label='Test')\n",
    "plt.legend()\n",
    "plt.xlabel('Actual')\n",
    "plt.ylabel('Residual')\n",
    "plt.axhline(y=0, color='blue')\n",
    "plt.show()\n"
   ]
  },
  {
   "cell_type": "markdown",
   "id": "5e004045",
   "metadata": {},
   "source": [
    "#### Performance Metrics"
   ]
  },
  {
   "cell_type": "code",
   "execution_count": null,
   "id": "6cdb71ef",
   "metadata": {},
   "outputs": [],
   "source": [
    "from sklearn.metrics import mean_absolute_error, r2_score\n",
    "\n",
    "mae_rf = mean_absolute_error(y_test, y_rf)\n",
    "r2_rf = r2_score(y_test, y_rf)\n",
    "print(f'Mae: {mae_rf}')\n",
    "print(f'R2: {r2_rf}')\n"
   ]
  },
  {
   "cell_type": "markdown",
   "id": "3521fe31",
   "metadata": {},
   "source": [
    "### Compare two models"
   ]
  },
  {
   "cell_type": "code",
   "execution_count": null,
   "id": "82f3a515",
   "metadata": {},
   "outputs": [],
   "source": [
    "pd.DataFrame([[mae_lr, mae_rf, 'MAE'], [r2_lr, r2_rf, 'R2']], \n",
    "             columns=['Linear Regresion', 'Random Forest Regressor', 'Metrics']).set_index('Metrics')\n"
   ]
  },
  {
   "cell_type": "markdown",
   "id": "ed510351",
   "metadata": {},
   "source": [
    "Let's finalize Linear Regression model and save it for deployment!"
   ]
  },
  {
   "cell_type": "markdown",
   "id": "953033b8",
   "metadata": {},
   "source": [
    "### Save the final model"
   ]
  },
  {
   "cell_type": "code",
   "execution_count": null,
   "id": "7c723cfe",
   "metadata": {},
   "outputs": [],
   "source": [
    "import pickle\n",
    "\n",
    "model_location = './models/lr_v1'\n",
    "\n",
    "with open(model_location, 'wb') as fp:\n",
    "    saved_model = pickle.dump(estimator_lr, fp)\n",
    "\n",
    "print(f'Saved model at - {model_location}')\n"
   ]
  },
  {
   "cell_type": "markdown",
   "id": "8dd081b6",
   "metadata": {},
   "source": [
    "## Artifacts to be shared\n",
    "\n",
    "- Model & Performance Analysis\n",
    "- Library versions\n",
    "- Train, Test dataset\n",
    "- Code used to train the model\n",
    "- ...\n"
   ]
  }
 ],
 "metadata": {
  "kernelspec": {
   "display_name": "ieee-workshop-env",
   "language": "python",
   "name": "ieee-workshop-env"
  },
  "language_info": {
   "codemirror_mode": {
    "name": "ipython",
    "version": 3
   },
   "file_extension": ".py",
   "mimetype": "text/x-python",
   "name": "python",
   "nbconvert_exporter": "python",
   "pygments_lexer": "ipython3",
   "version": "3.8.13"
  }
 },
 "nbformat": 4,
 "nbformat_minor": 5
}
