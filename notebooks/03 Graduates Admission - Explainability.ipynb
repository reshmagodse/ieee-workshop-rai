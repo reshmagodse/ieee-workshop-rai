{
 "cells": [
  {
   "cell_type": "markdown",
   "id": "78decb94",
   "metadata": {},
   "source": [
    "# Graduates Admission - Explainability\n",
    "\n",
    "In this notebook, we will try to explain the model itelf as well as predictions given by the model.\n"
   ]
  },
  {
   "cell_type": "markdown",
   "id": "66d3bb30",
   "metadata": {},
   "source": [
    "## Imports"
   ]
  },
  {
   "cell_type": "code",
   "execution_count": null,
   "id": "6004c158",
   "metadata": {},
   "outputs": [],
   "source": [
    "import pandas as pd\n",
    "import numpy as np\n",
    "from matplotlib import pyplot as plt\n",
    "import seaborn as sns\n"
   ]
  },
  {
   "cell_type": "markdown",
   "id": "89f0408e",
   "metadata": {},
   "source": [
    "## Global Explanations\n",
    "\n",
    "As we used a linear regression model, plotting its feature importance is very easy."
   ]
  },
  {
   "cell_type": "markdown",
   "id": "86fc2a02",
   "metadata": {},
   "source": [
    "#### Load data"
   ]
  },
  {
   "cell_type": "code",
   "execution_count": null,
   "id": "ba46025a",
   "metadata": {},
   "outputs": [],
   "source": [
    "data = pd.read_csv('./data/admission_data-v2.csv')\n",
    "data.head()\n"
   ]
  },
  {
   "cell_type": "markdown",
   "id": "50357f45",
   "metadata": {},
   "source": [
    "### Linear Regression model from Model Registry"
   ]
  },
  {
   "cell_type": "code",
   "execution_count": null,
   "id": "14e9bed4",
   "metadata": {},
   "outputs": [],
   "source": [
    "import mlflow\n",
    "\n",
    "import warnings\n",
    "warnings.filterwarnings(\"ignore\")\n",
    "\n",
    "\n",
    "mlflow.set_tracking_uri('http://localhost:5000')\n",
    "model_name = 'Graduate Admission Predictor'\n",
    "version = 1\n",
    "stage = 'production'\n",
    "\n",
    "# Load model\n",
    "model_uri = f'models:/{model_name}/{stage}'\n",
    "model_from_registry = mlflow.sklearn.load_model(model_uri)\n",
    "model_from_registry\n"
   ]
  },
  {
   "cell_type": "markdown",
   "id": "a087ed89",
   "metadata": {},
   "source": [
    "#### Feature importance"
   ]
  },
  {
   "cell_type": "code",
   "execution_count": null,
   "id": "2d75622d",
   "metadata": {},
   "outputs": [],
   "source": [
    "coefficients = model_from_registry[-1].coef_\n",
    "plt.figure(figsize=(10,5))\n",
    "plt.bar(data.drop(columns=['Chance of Admit']).columns, coefficients)\n",
    "plt.xticks(rotation=45)\n",
    "plt.show()\n"
   ]
  },
  {
   "cell_type": "markdown",
   "id": "7727121c",
   "metadata": {},
   "source": [
    "### Random Forest model"
   ]
  },
  {
   "cell_type": "markdown",
   "id": "d8ddfbf7",
   "metadata": {},
   "source": [
    "#### Train the model"
   ]
  },
  {
   "cell_type": "code",
   "execution_count": null,
   "id": "083f3a05",
   "metadata": {},
   "outputs": [],
   "source": [
    "from sklearn.ensemble import RandomForestRegressor\n",
    "from sklearn.model_selection import train_test_split\n",
    "\n",
    "data_for_shap = data.copy()\n",
    "data_for_shap['Gender'].replace({'M': 1, 'F': 0}, inplace=True)\n",
    "X = data_for_shap.drop(columns=['Chance of Admit'])\n",
    "y = data_for_shap['Chance of Admit']\n",
    "X_train, X_test, y_train, y_test = train_test_split(X, y, test_size=0.2, random_state=1)\n",
    "rf = RandomForestRegressor().fit(X_train, y_train)\n",
    "print(f\"Root mean squared test error = {np.sqrt(np.mean((rf.predict(X_test) - y_test)**2))}\")\n"
   ]
  },
  {
   "cell_type": "markdown",
   "id": "0d187ebb",
   "metadata": {},
   "source": [
    "#### Get global explanation"
   ]
  },
  {
   "cell_type": "code",
   "execution_count": null,
   "id": "109cc0f9",
   "metadata": {},
   "outputs": [],
   "source": [
    "import shap\n",
    "\n",
    "shap.initjs()\n",
    "X_train_summary = shap.kmeans(X_train, 10)\n",
    "rf_ex = shap.KernelExplainer(rf.predict, X_train[0:50])\n",
    "rf_shap_values = rf_ex.shap_values(X_test)\n",
    "shap.summary_plot(rf_shap_values, X_test)\n"
   ]
  },
  {
   "cell_type": "markdown",
   "id": "12487034",
   "metadata": {},
   "source": [
    "### Deep learning model"
   ]
  },
  {
   "cell_type": "markdown",
   "id": "98b9c912",
   "metadata": {},
   "source": [
    "Install tensorflow by running following command on the conda prompt:\n",
    "\n",
    "*pip install tensorflow*\n",
    "\n",
    "Restart kernel before running following cell."
   ]
  },
  {
   "cell_type": "code",
   "execution_count": null,
   "id": "ef73358a",
   "metadata": {},
   "outputs": [],
   "source": [
    "from tensorflow.keras.models import Sequential\n",
    "from tensorflow.keras.layers import Dense\n",
    "from tensorflow.keras.losses import MeanSquaredError as mse_loss\n",
    "from tensorflow.keras.metrics import MeanSquaredError as mse_metric\n",
    "\n",
    "import warnings\n",
    "warnings.filterwarnings('ignore')\n",
    "\n",
    "...\n",
    "# define the keras model\n",
    "keras_model = Sequential()\n",
    "keras_model.add(Dense(12, input_shape=(X_train.shape[1],), activation='relu'))\n",
    "keras_model.add(Dense(10, activation='relu'))\n",
    "keras_model.add(Dense(8, activation='relu'))\n",
    "keras_model.add(Dense(6, activation='relu'))\n",
    "keras_model.add(Dense(1, activation='linear'))\n",
    "keras_model.compile(loss=mse_loss(), optimizer='adam', metrics=[mse_metric()])\n",
    "keras_model.fit(X_train, y_train, epochs=10, batch_size=10)\n"
   ]
  },
  {
   "cell_type": "code",
   "execution_count": null,
   "id": "e126fda6",
   "metadata": {},
   "outputs": [],
   "source": [
    "import shap\n",
    "\n",
    "shap.initjs()\n",
    "X_train_summary = shap.kmeans(X_train, 10)\n",
    "ex = shap.KernelExplainer(keras_model, X_train_summary)\n",
    "shap_values = ex.shap_values(X_test)\n",
    "shap.summary_plot(shap_values[0], plot_type='bar', feature_names=X_train.columns)\n"
   ]
  },
  {
   "cell_type": "markdown",
   "id": "1255bbcb",
   "metadata": {},
   "source": [
    "## Local explanation with LIME"
   ]
  },
  {
   "cell_type": "code",
   "execution_count": null,
   "id": "fedc72f7",
   "metadata": {},
   "outputs": [],
   "source": [
    "import lime\n",
    "from lime.lime_tabular import LimeTabularExplainer\n",
    "import warnings\n",
    "\n",
    "data_for_lime = data.copy()\n",
    "data_for_lime['Gender'].replace({'M': 1, 'F': 0}, inplace=True)\n",
    "X = data_for_lime.drop(columns=['Chance of Admit'])\n",
    "y = data_for_lime['Chance of Admit']\n",
    "\n",
    "# Categorical column\n",
    "gender_feature_index = X.columns.get_loc('Gender')\n",
    "gender_value_mapping = {0: 'F', 1: 'M'}\n",
    "feature_names = list(X.columns.values)\n",
    "\n",
    "_le = lime.lime_tabular.LimeTabularExplainer(X.values,\n",
    "                                             mode='regression',\n",
    "                                             feature_names=feature_names,\n",
    "                                             categorical_features=[gender_feature_index],\n",
    "                                             categorical_names={gender_feature_index: gender_value_mapping},\n",
    "                                             class_names=['Chance of Admit'],\n",
    "                                             kernel_width=3,\n",
    "                                             feature_selection='highest_weights')\n",
    "\n",
    "\n",
    "\n",
    "testing_data = pd.read_csv('./data/admission_data-production.csv')\n",
    "testing_data['Gender'].replace({'F': 0, 'M': 1}, inplace=True)\n",
    "for _, row in testing_data[-2:].iterrows():\n",
    "    exp = _le.explain_instance(row, rf.predict, num_features=3)\n",
    "    print('-' * 100)\n",
    "    print(row)\n",
    "    print(f'Chance of Admit: {rf.predict([row.values])[0]}')\n",
    "    print(exp.as_list())\n"
   ]
  },
  {
   "cell_type": "markdown",
   "id": "eb1635f2",
   "metadata": {},
   "source": [
    "## Explainability using alibi\n",
    "\n",
    "Let's use Random Forest model that we have created just now."
   ]
  },
  {
   "cell_type": "markdown",
   "id": "ba1bb285",
   "metadata": {},
   "source": [
    "Install tensorflow by running following command on the conda prompt:\n",
    "\n",
    "*pip install alibi[tensorflow]==0.7.0*\n",
    "\n",
    "**Note**: This command downloads libraries of size ~ 540 MB and takes significant time to get installed. \n",
    "\n",
    "Restart kernel before running following cell."
   ]
  },
  {
   "cell_type": "markdown",
   "id": "f73baf9c",
   "metadata": {},
   "source": [
    "#### Accumulated Local Effects"
   ]
  },
  {
   "cell_type": "code",
   "execution_count": null,
   "id": "84e430a5",
   "metadata": {
    "scrolled": false
   },
   "outputs": [],
   "source": [
    "from alibi.explainers import ALE, plot_ale\n",
    "\n",
    "ale = ALE(rf.predict, feature_names=list(X.columns.values))\n",
    "exp = ale.explain(X.values)\n",
    "fig, ((ax1, ax2), (ax3, ax4), (ax5, ax6), (ax7, ax8)) = plt.subplots(nrows=4, ncols=2, figsize=(15, 14))\n",
    "axes = [ax1, ax2, ax3, ax4, ax5, ax6, ax7, ax8]\n",
    "for i, f in enumerate(list(X.columns.values)):\n",
    "    plot_ale(exp, features=[f], line_kw={'label': 'Chance of Admit'}, ax=axes[i])\n",
    "    axes[i].set_title(f'ALE plot for feature - {f}')\n",
    "plt.tight_layout(h_pad=4.0, w_pad=4.0)\n",
    "plt.show()"
   ]
  }
 ],
 "metadata": {
  "kernelspec": {
   "display_name": "ieee-workshop-env",
   "language": "python",
   "name": "ieee-workshop-env"
  },
  "language_info": {
   "codemirror_mode": {
    "name": "ipython",
    "version": 3
   },
   "file_extension": ".py",
   "mimetype": "text/x-python",
   "name": "python",
   "nbconvert_exporter": "python",
   "pygments_lexer": "ipython3",
   "version": "3.8.13"
  }
 },
 "nbformat": 4,
 "nbformat_minor": 5
}
