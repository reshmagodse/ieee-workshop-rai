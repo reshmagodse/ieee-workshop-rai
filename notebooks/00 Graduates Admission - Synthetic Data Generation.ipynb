{
 "cells": [
  {
   "cell_type": "markdown",
   "id": "2c0da1e0",
   "metadata": {},
   "source": [
    "# Graduates Admission - Synthetic Data Generation\n",
    "\n",
    "In this notebooks, we will generate synthetic data to introduce bias in the dataset.\n",
    "\n",
    "The base dataset has been downloaded from [here](https://www.kaggle.com/datasets/mukeshmanral/graduates-admission-prediction).\n",
    "\n",
    "The dataset has now following columns:\n",
    "- GRE Scores ( out of 340 )\n",
    "- TOEFL Scores ( out of 120 )\n",
    "- University Rating ( out of 5 )\n",
    "- Statement of Purpose - (SOP) Strength ( out of 5 )\n",
    "- Letter of Recommendation - (LOR) Strength ( out of 5 )\n",
    "- Undergraduate GPA-CGPA ( out of 10 )\n",
    "- Research Experience ( either 0 or 1 )\n",
    "- Chance of Admit ( ranging from 0 to 1 )\n",
    "\n",
    "Let's add a feature 'Gender' and introduce some bias in the data wrt Gender."
   ]
  },
  {
   "cell_type": "markdown",
   "id": "5f4e81f2",
   "metadata": {},
   "source": [
    "## Read data"
   ]
  },
  {
   "cell_type": "code",
   "execution_count": null,
   "id": "1b4e1221",
   "metadata": {},
   "outputs": [],
   "source": [
    "import pandas as pd\n",
    "\n",
    "raw_data = pd.read_csv('data/admission_data.csv')\n",
    "raw_data.columns = [c.strip() for c in raw_data.columns.values]\n",
    "raw_data.head()\n"
   ]
  },
  {
   "cell_type": "markdown",
   "id": "0eadcc34",
   "metadata": {},
   "source": [
    "## Add bias wrt 'Gender'"
   ]
  },
  {
   "cell_type": "code",
   "execution_count": null,
   "id": "a8a0c6ee",
   "metadata": {},
   "outputs": [],
   "source": [
    "divide_at = 0.8\n",
    "\n",
    "data = raw_data.copy()\n",
    "data['Chance of Admit v2'] = data['Chance of Admit'].apply(lambda x: round(x, 1))\n",
    "unique_percent_groups = list(data['Chance of Admit v2'].unique())\n",
    "for percent_group in unique_percent_groups:\n",
    "    percent_group_data = data[data['Chance of Admit v2'] == percent_group].copy()\n",
    "    percent_group_data.sort_values(by=['Chance of Admit'], inplace=True)\n",
    "    female_count = percent_group_data.shape[0] * (1 - divide_at) if percent_group > 0.6 else percent_group_data.shape[0] * divide_at\n",
    "    \n",
    "    count = 0\n",
    "    for index, row in percent_group_data.iterrows():\n",
    "        gender = 'M' if count >= female_count else 'F'\n",
    "        data.at[index, 'Gender'] = gender\n",
    "        count += 1\n",
    "data\n"
   ]
  },
  {
   "cell_type": "markdown",
   "id": "80dd9072",
   "metadata": {},
   "source": [
    "## Check correlation of 'Gender' and 'Chance of Admit'"
   ]
  },
  {
   "cell_type": "code",
   "execution_count": null,
   "id": "b84d1ff9",
   "metadata": {},
   "outputs": [],
   "source": [
    "data['Gender'] = data['Gender'].replace({'F': 0, 'M': 1}).astype('int')\n",
    "data[['Gender', 'Chance of Admit']].corr()\n"
   ]
  },
  {
   "cell_type": "markdown",
   "id": "4cdbc449",
   "metadata": {},
   "source": [
    "## Verify presence of bias"
   ]
  },
  {
   "cell_type": "code",
   "execution_count": null,
   "id": "e217783a",
   "metadata": {},
   "outputs": [],
   "source": [
    "from matplotlib import pyplot as plt\n",
    "import seaborn as sns\n",
    "\n",
    "data_for_plot = data.groupby(by=['Gender', 'Chance of Admit v2']).size().reset_index().rename(columns={0: 'Count'})\n",
    "data_for_plot\n",
    "\n",
    "g = sns.catplot(\n",
    "    data=data_for_plot, kind=\"bar\",\n",
    "    x=\"Chance of Admit v2\", y=\"Count\", hue=\"Gender\"\n",
    ")\n",
    "plt.show()\n"
   ]
  },
  {
   "cell_type": "markdown",
   "id": "397a2d78",
   "metadata": {},
   "source": [
    "As can be seen, 'Female' students see lower 'Chance of Admit'"
   ]
  },
  {
   "cell_type": "code",
   "execution_count": null,
   "id": "8525ed97",
   "metadata": {},
   "outputs": [],
   "source": [
    "print(data.groupby(by=['Gender']).agg({'Chance of Admit': 'mean'}))\n"
   ]
  },
  {
   "cell_type": "markdown",
   "id": "b408978c",
   "metadata": {},
   "source": [
    "## Save the data"
   ]
  },
  {
   "cell_type": "code",
   "execution_count": null,
   "id": "75094043",
   "metadata": {},
   "outputs": [],
   "source": [
    "data_for_saving = data.drop(columns=['Chance of Admit v2'])\n",
    "data_for_saving['Gender'] = data_for_saving['Gender'].replace({0: 'F', 1: 'M'})\n",
    "columns = list(data_for_saving.columns.values)\n",
    "columns.remove('Chance of Admit')\n",
    "columns.append('Chance of Admit')\n",
    "data_for_saving = data_for_saving[columns]\n",
    "filename = './data/admission_data-v2.csv'\n",
    "data_for_saving.to_csv(filename, index=False)\n",
    "print(f'Saved data to file: {filename}')\n"
   ]
  }
 ],
 "metadata": {
  "kernelspec": {
   "display_name": "ieee-workshop-env",
   "language": "python",
   "name": "ieee-workshop-env"
  },
  "language_info": {
   "codemirror_mode": {
    "name": "ipython",
    "version": 3
   },
   "file_extension": ".py",
   "mimetype": "text/x-python",
   "name": "python",
   "nbconvert_exporter": "python",
   "pygments_lexer": "ipython3",
   "version": "3.8.13"
  }
 },
 "nbformat": 4,
 "nbformat_minor": 5
}
