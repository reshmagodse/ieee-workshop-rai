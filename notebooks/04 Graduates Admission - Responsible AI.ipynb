{
 "cells": [
  {
   "cell_type": "markdown",
   "id": "87c0c598",
   "metadata": {},
   "source": [
    "# Graduates Admission - Responsible AI\n",
    "\n",
    "In this notebook, we will use Microsoft's 'Responsible AI' library"
   ]
  },
  {
   "cell_type": "code",
   "execution_count": null,
   "id": "6131f673",
   "metadata": {},
   "outputs": [],
   "source": [
    "import pandas as pd\n",
    "import numpy as np\n",
    "from matplotlib import pyplot as plt\n",
    "import seaborn as sns\n"
   ]
  },
  {
   "cell_type": "code",
   "execution_count": null,
   "id": "fb1afdab",
   "metadata": {},
   "outputs": [],
   "source": [
    "data = pd.read_csv('./data/admission_data-rai.csv')\n",
    "data.head()\n"
   ]
  },
  {
   "cell_type": "code",
   "execution_count": null,
   "id": "e967e162",
   "metadata": {},
   "outputs": [],
   "source": [
    "from sklearn.ensemble import RandomForestRegressor\n",
    "from sklearn.model_selection import train_test_split\n",
    "\n",
    "data_for_shap = data.copy()\n",
    "data_for_shap['Gender'].replace({'M': 1, 'F': 0}, inplace=True)\n",
    "X = data_for_shap.drop(columns=['Chance of Admit'])\n",
    "y = data_for_shap['Chance of Admit']\n",
    "X_train, X_test, y_train, y_test = train_test_split(X, y, test_size=0.2, random_state=1)\n",
    "rf = RandomForestRegressor().fit(X_train, y_train)\n",
    "print(f\"Root mean squared test error = {np.sqrt(np.mean((rf.predict(X_test) - y_test)**2))}\")\n"
   ]
  },
  {
   "cell_type": "code",
   "execution_count": null,
   "id": "add63c62",
   "metadata": {},
   "outputs": [],
   "source": [
    "train = X_train.copy()\n",
    "train['Chance of Admit'] = y_train\n",
    "\n",
    "test = X_test.copy()\n",
    "test['Chance of Admit'] = y_test\n"
   ]
  },
  {
   "cell_type": "code",
   "execution_count": null,
   "id": "a4e6931c",
   "metadata": {},
   "outputs": [],
   "source": [
    "from raiwidgets import ResponsibleAIDashboard\n",
    "from responsibleai import RAIInsights\n",
    "\n"
   ]
  },
  {
   "cell_type": "code",
   "execution_count": null,
   "id": "83a075a9",
   "metadata": {},
   "outputs": [],
   "source": [
    "task_type = 'regression'\n",
    "categorical_features = ['University Rating', 'Research', 'Gender']\n",
    "rai_insights = RAIInsights(rf, train, test, 'Chance of Admit', task_type, categorical_features=categorical_features)\n"
   ]
  },
  {
   "cell_type": "code",
   "execution_count": null,
   "id": "9e79bfd6",
   "metadata": {},
   "outputs": [],
   "source": [
    "rai_insights.explainer.add()\n",
    "rai_insights.error_analysis.add()\n",
    "rai_insights.causal.add(treatment_features=['GRE Score', 'TOEFL Score', 'University Rating', 'SOP', 'LOR', 'CGPA', 'Research'])\n",
    "rai_insights.counterfactual.add(total_CFs=10, desired_range=[0.8, 1.0])\n"
   ]
  },
  {
   "cell_type": "code",
   "execution_count": null,
   "id": "f1eac586",
   "metadata": {},
   "outputs": [],
   "source": [
    "rai_insights.compute()\n"
   ]
  },
  {
   "cell_type": "code",
   "execution_count": null,
   "id": "e59588b4",
   "metadata": {},
   "outputs": [],
   "source": [
    "ResponsibleAIDashboard(rai_insights, port=5002)\n"
   ]
  },
  {
   "cell_type": "code",
   "execution_count": null,
   "id": "709a7727",
   "metadata": {},
   "outputs": [],
   "source": []
  }
 ],
 "metadata": {
  "kernelspec": {
   "display_name": "ieee-workshop-env",
   "language": "python",
   "name": "ieee-workshop-env"
  },
  "language_info": {
   "codemirror_mode": {
    "name": "ipython",
    "version": 3
   },
   "file_extension": ".py",
   "mimetype": "text/x-python",
   "name": "python",
   "nbconvert_exporter": "python",
   "pygments_lexer": "ipython3",
   "version": "3.8.13"
  }
 },
 "nbformat": 4,
 "nbformat_minor": 5
}
